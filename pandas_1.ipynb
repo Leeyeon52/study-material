{
 "cells": [
  {
   "cell_type": "markdown",
   "metadata": {},
   "source": [
    "🔹 pandas_1.ipynb: 판다스 데이터프레임 기초\n",
    "이 파일에서는 Pandas의 기본적인 개념과 데이터프레임 생성 및 조작 방법을 다룹니다.\n"
   ]
  },
  {
   "cell_type": "markdown",
   "metadata": {},
   "source": [
    "\n",
    "📝 주요 내용\n",
    "✅ Series와 DataFrame의 개념\n",
    "✅ pd.DataFrame()과 pd.Series()를 사용한 데이터 생성\n",
    "✅ 기본적인 데이터 조회 (head(), tail(), info(), describe())\n",
    "✅ 데이터 정렬 및 필터링"
   ]
  },
  {
   "cell_type": "markdown",
   "metadata": {},
   "source": [
    "🔹 주요 개념 정리\n",
    "📌 Series\n",
    "\n",
    "Series는 1차원 배열 형태로, 하나의 열(column)처럼 동작합니다.\n",
    "인덱스를 설정하여 데이터에 접근할 수 있습니다.\n"
   ]
  },
  {
   "cell_type": "markdown",
   "metadata": {},
   "source": [
    "📌 DataFrame\n",
    "\n",
    "DataFrame은 2차원 테이블 구조로, 여러 개의 Series가 모여 있는 형태입니다.\n",
    "행과 열이 존재하며, 엑셀 스프레드시트와 유사한 구조를 가집니다."
   ]
  },
  {
   "cell_type": "markdown",
   "metadata": {},
   "source": [
    "📌 코드 예제\n",
    "python\n",
    "복사\n",
    "편집\n",
    "import pandas as pd"
   ]
  },
  {
   "cell_type": "code",
   "execution_count": null,
   "metadata": {},
   "outputs": [],
   "source": [
    "# Series 생성\n",
    "data = pd.Series([10, 20, 30, 40], index=['A', 'B', 'C', 'D'])\n",
    "print(data)\n",
    "\n",
    "# DataFrame 생성\n",
    "df = pd.DataFrame({\n",
    "    '이름': ['철수', '영희', '길동'],\n",
    "    '나이': [25, 30, 22],\n",
    "    '성별': ['남', '여', '남']\n",
    "})\n",
    "print(df)"
   ]
  },
  {
   "cell_type": "markdown",
   "metadata": {},
   "source": [
    "📌 위 코드에서 Series는 인덱스를 가지는 1차원 배열, DataFrame은 여러 개의 Series로 구성된 2차원 구조입니다."
   ]
  }
 ],
 "metadata": {
  "kernelspec": {
   "display_name": "base",
   "language": "python",
   "name": "python3"
  },
  "language_info": {
   "codemirror_mode": {
    "name": "ipython",
    "version": 3
   },
   "file_extension": ".py",
   "mimetype": "text/x-python",
   "name": "python",
   "nbconvert_exporter": "python",
   "pygments_lexer": "ipython3",
   "version": "3.12.7"
  }
 },
 "nbformat": 4,
 "nbformat_minor": 2
}
