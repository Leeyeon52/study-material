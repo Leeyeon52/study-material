{
 "cells": [
  {
   "cell_type": "markdown",
   "metadata": {},
   "source": [
    "ML_Mnist_classification"
   ]
  },
  {
   "cell_type": "markdown",
   "metadata": {},
   "source": [
    "개요\n",
    "- MNIST 데이터셋을 이용한 손글씨 숫자 분류 모델 구축.\n",
    "\n",
    "- 인공신경망(MLP) 또는 합성곱 신경망(CNN) 활용."
   ]
  },
  {
   "cell_type": "markdown",
   "metadata": {},
   "source": [
    "주요 내용"
   ]
  },
  {
   "cell_type": "markdown",
   "metadata": {},
   "source": [
    "1) 데이터 로드 및 전처리\n",
    "- MNIST 데이터셋 다운로드.\n",
    "\n",
    "- 데이터 정규화(0~1 범위로 스케일링).\n",
    "\n",
    "- 훈련 데이터와 테스트 데이터 분리."
   ]
  },
  {
   "cell_type": "markdown",
   "metadata": {},
   "source": [
    "2) 모델 구축\n",
    "- MLP(다층 퍼셉트론):\n",
    "\n",
    "- 입력층 → 은닉층(활성화 함수: ReLU) → 출력층(Softmax).\n",
    "\n",
    "- CNN(합성곱 신경망):\n",
    "\n",
    "- 합성곱 레이어(Conv2D) → 풀링 레이어(MaxPooling) → 완전연결층(Dense)."
   ]
  }
 ],
 "metadata": {
  "language_info": {
   "name": "python"
  }
 },
 "nbformat": 4,
 "nbformat_minor": 2
}
