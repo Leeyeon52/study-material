{
 "cells": [
  {
   "cell_type": "markdown",
   "metadata": {},
   "source": [
    "🔹 from_scratch_1.ipynb: 선형대수 기초"
   ]
  },
  {
   "cell_type": "markdown",
   "metadata": {},
   "source": [
    "✅ 벡터 연산\n",
    "✅ 행렬 곱셈 및 역행렬"
   ]
  },
  {
   "cell_type": "code",
   "execution_count": null,
   "metadata": {
    "vscode": {
     "languageId": "plaintext"
    }
   },
   "outputs": [],
   "source": [
    "v1 = np.array([3, 1])\n",
    "v2 = np.array([-2, 5])\n",
    "print(v1 + v2)  # 벡터 덧셈\n"
   ]
  }
 ],
 "metadata": {
  "language_info": {
   "name": "python"
  }
 },
 "nbformat": 4,
 "nbformat_minor": 2
}
