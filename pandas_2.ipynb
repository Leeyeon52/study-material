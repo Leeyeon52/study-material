{
 "cells": [
  {
   "cell_type": "markdown",
   "metadata": {},
   "source": [
    "🔹 pandas_2.ipynb: 데이터프레임 인덱싱 및 필터링\n",
    "이 파일에서는 데이터프레임에서 특정 데이터에 접근하는 방법을 설명합니다."
   ]
  },
  {
   "cell_type": "markdown",
   "metadata": {},
   "source": [
    "\n",
    "📝 주요 내용\n",
    "✅ loc[]과 iloc[]을 활용한 데이터 선택\n",
    "✅ 조건부 필터링 (df[df['나이'] > 25])\n",
    "✅ 인덱스 설정 및 변경 (set_index(), reset_index())"
   ]
  },
  {
   "cell_type": "markdown",
   "metadata": {},
   "source": [
    "📌 코드 예제\n",
    "python\n",
    "복사\n",
    "편집"
   ]
  },
  {
   "cell_type": "code",
   "execution_count": null,
   "metadata": {
    "vscode": {
     "languageId": "plaintext"
    }
   },
   "outputs": [],
   "source": [
    "# 특정 행과 열 선택\n",
    "print(df.loc[0, '이름'])  # '철수' 출력\n",
    "print(df.iloc[1, 1])  # 30 출력\n",
    "\n",
    "# 조건부 필터링 (나이가 25 이상인 데이터)\n",
    "df_filtered = df[df['나이'] >= 25]\n",
    "print(df_filtered)\n"
   ]
  },
  {
   "cell_type": "markdown",
   "metadata": {},
   "source": [
    "\n",
    "📌 loc[]은 라벨 기반 인덱싱, iloc[]은 숫자 기반 인덱싱을 사용합니다."
   ]
  }
 ],
 "metadata": {
  "language_info": {
   "name": "python"
  }
 },
 "nbformat": 4,
 "nbformat_minor": 2
}
