{
 "cells": [
  {
   "cell_type": "markdown",
   "metadata": {},
   "source": [
    "📌 from_scratch_2.ipynb"
   ]
  },
  {
   "cell_type": "markdown",
   "metadata": {},
   "source": [
    "개요\n",
    "- 이 파일은 from_scratch_1.ipynb의 확장 버전으로, 좀 더 고급 머신러닝 모델을 직접 구현하는 내용을 포함합니다."
   ]
  },
  {
   "cell_type": "markdown",
   "metadata": {},
   "source": [
    "주요 내용\n",
    "\n",
    "1.비선형 회귀 모델 구현 (예: 다항 회귀, 로지스틱 회귀)\n",
    "\n",
    "  - 다항식 회귀 (Polynomial Regression) 구현\n",
    "  - 로지스틱 회귀(Logistic Regression) 개념 및 코드\n",
    "\n",
    "2.손실 함수 및 성능 평가\n",
    "\n",
    "  - 평균제곱오차(MSE), 로그손실(Log Loss) 등 손실 함수 구현\n",
    "  - 정확도, 정밀도, 재현율 등의 평가 지표 설명\n",
    "\n",
    "3.다층 퍼셉트론(MLP) 및 신경망 기초\n",
    "\n",
    "  - 뉴런과 활성화 함수(시그모이드, ReLU) 개념 설명\n",
    "  - 간단한 2층 신경망 구현"
   ]
  }
 ],
 "metadata": {
  "language_info": {
   "name": "python"
  }
 },
 "nbformat": 4,
 "nbformat_minor": 2
}
