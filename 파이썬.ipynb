{
 "cells": [
  {
   "cell_type": "markdown",
   "metadata": {},
   "source": [
    "# 1분 파이썬 강의자료 요약\n",
    "\n",
    "## 1. 파이썬 개요\n",
    "- 다양한 활용 분야: **게임 개발, GUI, 웹 스크래핑, 사물인터넷, 인공지능, 데이터 분석, 업무 자동화**\n",
    "- 누구나 쉽게 배울 수 있는 언어"
   ]
  },
  {
   "cell_type": "markdown",
   "metadata": {},
   "source": [
    "## 2. 환경 설정\n",
    "### 🔹 파이썬 설치 방법\n",
    "1. 구글에서 **\"python\"** 검색 후 공식 홈페이지 방문\n",
    "2. 설치 파일 다운로드 및 실행\n",
    "3. **Add Python 3.x to PATH** 체크\n",
    "4. **Customize installation** 선택 후 **C:\\Python3x**로 변경\n",
    "5. Install 클릭 후 Close\n",
    "\n",
    "### 🔹 Visual Studio Code 설치\n",
    "1. 구글에서 **\"vscode\"** 검색 후 공식 홈페이지 방문\n",
    "2. 설치 파일 다운로드 및 실행\n",
    "3. 계약 동의 후 설치 진행\n",
    "4. **Python Extension 설치** 후 실행"
   ]
  },
  {
   "cell_type": "markdown",
   "metadata": {},
   "source": [
    "## 3. 기본 개념\n",
    "### 🔹 자료형\n",
    "- **문자(String)**: `\"Hello\"`, `'Python'`\n",
    "- **숫자(Number)**: `10`, `3.14`\n",
    "- **불리언(Boolean)**: `True`, `False`\n",
    "\n",
    "#### 📌 예제 코드\n",
    "```python\n",
    "print(\"Hello World\")  # 문자열 출력\n",
    "print(3.14)  # 숫자 출력\n",
    "print(True)  # 불리언 출력\n",
    "```\n",
    "\n",
    "### 🔹 변수 사용\n",
    "- 값을 저장하는 공간\n",
    "- `변수이름 = 값` 형식\n",
    "\n",
    "#### 📌 예제 코드\n",
    "```python\n",
    "name = \"파이썬\"\n",
    "age = 25\n",
    "is_student = True\n",
    "print(name, age, is_student)\n",
    "```\n",
    "\n",
    "### 🔹 변수 이름 규칙\n",
    "1. 문자 또는 `_`로 시작해야 함 (예: `name`, `_name`)\n",
    "2. 문자, 숫자, `_`로 구성 가능 (예: `name123`, `_name_456`)\n",
    "3. 공백 및 특수문자 사용 불가 (예: `na me` ❌)\n",
    "4. 대소문자 구분 (예: `name` ≠ `Name`)\n",
    "5. 키워드(예약어) 사용 불가 (예: `if`, `class`, `while` 등)"
   ]
  },
  {
   "cell_type": "markdown",
   "metadata": {},
   "source": [
    "## 4. 형 변환 및 연산자\n",
    "### 🔹 형 변환\n",
    "- `int(\"2\")` → 정수 변환\n",
    "- `float(\"3.14\")` → 실수 변환\n",
    "- `str(10)` → 문자 변환\n",
    "\n",
    "#### 📌 예제 코드\n",
    "```python\n",
    "num_str = \"10\"\n",
    "num = int(num_str)  # 문자열을 숫자로 변환\n",
    "print(num + 5)  # 결과: 15\n",
    "```\n",
    "\n",
    "### 🔹 연산자\n",
    "| 연산자 | 설명 | 예제 |\n",
    "|--------|------|------|\n",
    "| `+` | 더하기 | `5 + 2` → `7` |\n",
    "| `-` | 빼기 | `5 - 2` → `3` |\n",
    "| `*` | 곱하기 | `5 * 2` → `10` |\n",
    "| `/` | 나누기 | `5 / 2` → `2.5` |\n",
    "| `%` | 나머지 | `5 % 2` → `1` |\n",
    "| `//` | 몫 | `5 // 2` → `2` |\n",
    "| `**` | 거듭제곱 | `5 ** 2` → `25` |\n",
    "\n",
    "#### 📌 예제 코드\n",
    "```python\n",
    "print(10 / 3)  # 결과: 3.3333...\n",
    "print(10 // 3)  # 결과: 3\n",
    "print(2 ** 3)  # 결과: 8\n",
    "```"
   ]
  },
  {
   "cell_type": "markdown",
   "metadata": {},
   "source": [
    "## 5. 문자열 처리\n",
    "### 🔹 인덱싱 & 슬라이싱\n",
    "```python\n",
    "lang = \"PYTHON\"\n",
    "print(lang[0])  # P\n",
    "print(lang[-1])  # N\n",
    "print(lang[1:4])  # YTH\n",
    "```\n",
    "\n",
    "### 🔹 문자열 메소드\n",
    "| 메소드 | 설명 | 예제 |\n",
    "|--------|------|------|\n",
    "| `lower()` | 소문자로 변환 | `\"HELLO\".lower()` → `hello` |\n",
    "| `upper()` | 대문자로 변환 | `\"hello\".upper()` → `HELLO` |\n",
    "| `replace()` | 문자열 바꾸기 | `\"파이썬\".replace(\"파\", \"자\")` → `자이썬` |\n",
    "| `find()` | 특정 문자 위치 찾기 | `\"hello\".find(\"l\")` → `2` |\n",
    "| `split()` | 문자열 나누기 | `\"사과,배,포도\".split(\",\")` → `['사과', '배', '포도']` |\n",
    "\n",
    "#### 📌 예제 코드\n",
    "```python\n",
    "greeting = \"Hello Python\"\n",
    "print(greeting.lower())  # hello python\n",
    "print(greeting.replace(\"Hello\", \"Hi\"))  # Hi Python\n",
    "```\n"
   ]
  },
  {
   "cell_type": "markdown",
   "metadata": {},
   "source": [
    "## 6. 리스트(List)\n",
    "### 🔹 리스트 생성 & 사용\n",
    "```python\n",
    "fruits = [\"사과\", \"바나나\", \"포도\"]\n",
    "print(fruits[0])  # 사과\n",
    "print(len(fruits))  # 3\n",
    "```\n",
    "\n",
    "### 🔹 리스트 추가 & 수정\n",
    "```python\n",
    "fruits.append(\"오렌지\")  # 추가\n",
    "fruits[1] = \"딸기\"  # 수정\n",
    "print(fruits)  # ['사과', '딸기', '포도', '오렌지']\n",
    "```\n",
    "\n",
    "### 🔹 리스트 연산\n",
    "```python\n",
    "numbers = [1, 2, 3]\n",
    "numbers.extend([4, 5])  # 리스트 확장\n",
    "numbers.remove(2)  # 특정 값 제거\n",
    "print(numbers)  # [1, 3, 4, 5]\n",
    "```"
   ]
  },
  {
   "cell_type": "markdown",
   "metadata": {},
   "source": [
    "## 7. 문자열 포맷\n",
    "### 🔹 다양한 포맷 방식\n",
    "```python\n",
    "name = \"철수\"\n",
    "age = 20\n",
    "print(\"이름: {} 나이: {}\".format(name, age))  # format 방식\n",
    "print(f\"이름: {name} 나이: {age}\")  # f-string 방식\n",
    "```"
   ]
  },
  {
   "cell_type": "markdown",
   "metadata": {},
   "source": [
    "## 8. 탈출 문자\n",
    "| 탈출 문자 | 설명 |\n",
    "|---------|------|\n",
    "| `\\n` | 줄바꿈 |\n",
    "| `\\t` | 탭 |\n",
    "| `\\\\` | 역슬래시 출력 |\n",
    "| `\\\"` | 큰따옴표 출력 |\n",
    "| `\\'` | 작은따옴표 출력 |\n",
    "\n",
    "#### 📌 예제 코드\n",
    "```python\n",
    "print(\"안녕하세요!\\n반갑습니다.\")  # 줄바꿈 적용\n",
    "print(\"경로: C:\\\\Users\\\\User\")  # 백슬래시 출력"
   ]
  },
  {
   "cell_type": "markdown",
   "metadata": {},
   "source": [
    "## ✅ 마무리\n",
    "이 강의자료는 **파이썬 기초 개념을 빠르게 학습**할 수 있도록 구성되었습니다.\n",
    "각 개념을 차근차근 연습해보면서 파이썬에 익숙해지세요! 🚀"
   ]
  },
  {
   "cell_type": "markdown",
   "metadata": {},
   "source": []
  },
  {
   "cell_type": "markdown",
   "metadata": {},
   "source": []
  },
  {
   "cell_type": "markdown",
   "metadata": {},
   "source": []
  }
 ],
 "metadata": {
  "language_info": {
   "name": "python"
  }
 },
 "nbformat": 4,
 "nbformat_minor": 2
}
