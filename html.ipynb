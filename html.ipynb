{
 "cells": [
  {
   "cell_type": "markdown",
   "metadata": {},
   "source": [
    "# HTML 강의자료 요약\n",
    "\n",
    "## 1. HTML 개요\n",
    "- **HTML(HyperText Markup Language)**: 웹 페이지의 구조를 정의하는 언어\n",
    "- 웹 페이지는 **HTML + CSS + JavaScript**로 구성됨\n",
    "  - **HTML**: 웹 페이지의 구조 (설계도 역할)\n",
    "  - **CSS**: 디자인 및 스타일링\n",
    "  - **JavaScript**: 동적 기능 및 상호작용 추가"
   ]
  },
  {
   "cell_type": "markdown",
   "metadata": {},
   "source": [
    "## 2. HTML 기본 구조\n",
    "```html\n",
    "<!DOCTYPE html>\n",
    "<html>\n",
    "<head>\n",
    "    <meta charset=\"utf-8\">\n",
    "    <title>HTML 기초</title>\n",
    "</head>\n",
    "<body>\n",
    "    <p>HTML을 배워보자!</p>\n",
    "</body>\n",
    "</html>"
   ]
  },
  {
   "cell_type": "markdown",
   "metadata": {},
   "source": [
    "## 3. HTML 기본 태그\n",
    "### 🔹 문서 구조 태그\n",
    "| 태그 | 설명 |\n",
    "|------|------|\n",
    "| `<!DOCTYPE html>` | HTML5 문서 선언 |\n",
    "| `<html>` | HTML 문서의 최상위 요소 |\n",
    "| `<head>` | 문서 정보를 담는 영역 |\n",
    "| `<meta>` | 문자 인코딩, 설명 등의 정보 제공 |\n",
    "| `<title>` | 브라우저 탭에 표시되는 제목 |\n",
    "| `<body>` | 실제 웹 페이지의 콘텐츠 영역 |\n",
    "\n",
    "### 🔹 텍스트 관련 태그\n",
    "| 태그 | 설명 |\n",
    "|------|------|\n",
    "| `<p>` | 문단을 나타내는 태그 |\n",
    "| `<h1>` ~ `<h6>` | 제목 태그 (숫자가 작을수록 크기가 큼) |\n",
    "| `<strong>` | 굵은 글씨 (중요한 내용) |\n",
    "| `<em>` | 기울어진 글씨 (강조) |\n",
    "| `<br>` | 줄바꿈 (빈 요소) |\n",
    "| `<hr>` | 수평선 (빈 요소) |\n",
    "\n",
    "### 🔹 링크 및 이미지 태그\n",
    "| 태그 | 설명 |\n",
    "|------|------|\n",
    "| `<a href=\"URL\">` | 하이퍼링크 생성 |\n",
    "| `<img src=\"URL\" alt=\"설명\">` | 이미지 삽입 |\n",
    "\n",
    "#### 📌 예제 코드\n",
    "```html\n",
    "<a href=\"https://www.naver.com\" target=\"_blank\">네이버</a>\n",
    "<img src=\"logo.png\" alt=\"로고 이미지\">"
   ]
  },
  {
   "cell_type": "markdown",
   "metadata": {},
   "source": [
    "## 4. 목록 태그\n",
    "### 🔹 비정렬 목록 (ul)\n",
    "```html\n",
    "<ul>\n",
    "    <li>HTML</li>\n",
    "    <li>CSS</li>\n",
    "    <li>JavaScript</li>\n",
    "</ul>\n",
    "```\n",
    "### 🔹 정렬 목록 (ol)\n",
    "```html\n",
    "<ol>\n",
    "    <li>HTML</li>\n",
    "    <li>CSS</li>\n",
    "    <li>JavaScript</li>\n",
    "</ol>"
   ]
  },
  {
   "cell_type": "markdown",
   "metadata": {},
   "source": [
    "## 5. 레이아웃 관련 태그\n",
    "| 태그 | 설명 |\n",
    "|------|------|\n",
    "| `<div>` | 블록 요소, 여러 요소를 그룹화 |\n",
    "| `<span>` | 인라인 요소, 텍스트 일부를 꾸밀 때 사용 |\n",
    "\n",
    "#### 📌 예제 코드\n",
    "```html\n",
    "<div style=\"background-color: yellow;\">\n",
    "    <p>이 배경은 노란색입니다.</p>\n",
    "</div>\n",
    "\n",
    "<p>\n",
    "    HTML은 <span style=\"color: red;\">중요한</span> 기술입니다.\n",
    "</p>"
   ]
  },
  {
   "cell_type": "markdown",
   "metadata": {},
   "source": [
    "## 6. 전역 속성\n",
    "| 속성 | 설명 |\n",
    "|------|------|\n",
    "| `style` | CSS 스타일 적용 |\n",
    "| `class` | 특정 그룹 스타일 적용 가능 (여러 개 가능) |\n",
    "| `id` | 특정 요소에 스타일 적용 (고유해야 함) |\n",
    "| `hidden` | 요소를 보이지 않게 함 |\n",
    "| `title` | 요소에 마우스를 올렸을 때 툴팁 표시 |\n"
   ]
  },
  {
   "cell_type": "markdown",
   "metadata": {},
   "source": [
    "#### 📌 예제 코드\n",
    "```html\n",
    "<div class=\"warning\">경고 메시지</div>\n",
    "<p id=\"highlight\">이 부분은 강조됨</p>"
   ]
  },
  {
   "cell_type": "markdown",
   "metadata": {},
   "source": [
    "## ✅ 마무리\n",
    "이 문서는 HTML 기초 개념과 주요 태그를 쉽게 이해할 수 있도록 정리되었습니다. HTML의 기본 문법을 익히고, 직접 코드를 작성하며 연습해보세요! 🚀\n",
    "\n"
   ]
  }
 ],
 "metadata": {
  "language_info": {
   "name": "python"
  }
 },
 "nbformat": 4,
 "nbformat_minor": 2
}
