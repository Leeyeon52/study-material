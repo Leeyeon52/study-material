{
 "cells": [
  {
   "cell_type": "markdown",
   "metadata": {},
   "source": [
    "회귀"
   ]
  },
  {
   "cell_type": "markdown",
   "metadata": {},
   "source": [
    "개요\n",
    "머신러닝에서 회귀(Regression) 는 입력 변수(X)와 출력 변수(Y) 간의 관계를 모델링하는 방법.\n",
    "\n",
    "수치 예측 문제를 해결하는 데 사용."
   ]
  },
  {
   "cell_type": "markdown",
   "metadata": {},
   "source": [
    "주요 내용"
   ]
  },
  {
   "cell_type": "markdown",
   "metadata": {},
   "source": [
    "1) 단순 선형 회귀(Simple Linear Regression)\n",
    "- 기본적인 1차원 회귀 모델: Y ≈ β₀ + β₁X\n",
    "\n",
    "        - β₀ (절편): Y축과의 절편                 \n",
    "        - β₁ (기울기): X가 변할 때 Y가 얼마나 변하는지."
   ]
  },
  {
   "cell_type": "markdown",
   "metadata": {},
   "source": [
    "2) 다중 회귀(Multiple Regression)\n",
    "- 독립변수가 여러 개인 경우: Y≈β₀ + β₁ X₁ + β₂X₂ + ... + β¡X¡\n",
    "\n",
    "    - 예제: 아이스크림 판매량(종속 변수)을 기온(X1), 강수량(X2) 등의 독립 변수로 예측."
   ]
  },
  {
   "cell_type": "markdown",
   "metadata": {},
   "source": [
    "3) 회귀 모델의 성능 평가\n",
    "- 결정 계수 (R²): R² = 1 - SSE / SST\n",
    "\n",
    "​\n",
    "\n",
    "       - SSE (Sum of Squared Errors): 예측값과 실제값의 차이 제곱합.\n",
    "\n",
    "       - SST (Total Sum of Squares): 전체 데이터의 분산.\n",
    "\n",
    "       - R² 값이 1에 가까울수록 모델이 데이터를 잘 설명함.\n",
    "\n"
   ]
  }
 ],
 "metadata": {
  "language_info": {
   "name": "python"
  }
 },
 "nbformat": 4,
 "nbformat_minor": 2
}
