{
 "cells": [
  {
   "cell_type": "markdown",
   "metadata": {},
   "source": [
    "📌 pandas_4.ipynb"
   ]
  },
  {
   "cell_type": "markdown",
   "metadata": {},
   "source": [
    "개요\n",
    "- Pandas 라이브러리를 활용한 데이터 분석 실습입니다. 데이터 전처리, 그룹화, 피벗 테이블 등의 기능을 다룹니다."
   ]
  },
  {
   "cell_type": "markdown",
   "metadata": {},
   "source": [
    "주요 내용\n",
    "\n",
    "1.기본 데이터프레임 조작\n",
    "\n",
    "  - pd.DataFrame() 생성 및 조작\n",
    "  - iloc[], loc[]을 활용한 데이터 조회 및 수정\n",
    "\n",
    "2.데이터 정리 및 변형\n",
    "\n",
    "  - 결측치 처리 (dropna(), fillna())\n",
    "  - 중복 데이터 제거 (drop_duplicates())\n",
    "  - 데이터 타입 변환 (astype())\n",
    "\n",
    "3.그룹화 및 피벗 테이블\n",
    "\n",
    "  - groupby()를 이용한 데이터 그룹화\n",
    "  - pivot_table()로 데이터 요약\n",
    "\n",
    "4.데이터 병합 및 연결\n",
    "\n",
    "  - merge()를 이용한 데이터프레임 병합\n",
    "  - concat()을 사용한 데이터 연결"
   ]
  }
 ],
 "metadata": {
  "language_info": {
   "name": "python"
  }
 },
 "nbformat": 4,
 "nbformat_minor": 2
}
