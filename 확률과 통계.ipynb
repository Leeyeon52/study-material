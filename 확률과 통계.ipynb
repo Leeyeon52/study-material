{
 "cells": [
  {
   "cell_type": "markdown",
   "metadata": {},
   "source": [
    "확률"
   ]
  },
  {
   "cell_type": "markdown",
   "metadata": {},
   "source": [
    "✔ 확률의 개념\n",
    "\n",
    "- 표본 공간(𝛺): 모든 가능한 결과들의 집합\n",
    "- 사건(𝐴): 표본 공간의 부분집합\n",
    "- 확률 법칙: 0≤P(A)≤1, P(𝛺) =1\n",
    "\n",
    "- 여사건: \n",
    "𝑃\n",
    "(\n",
    "𝐴\n",
    "𝑐\n",
    ")\n",
    "=\n",
    "1\n",
    "−\n",
    "𝑃\n",
    "(\n",
    "𝐴\n",
    ")\n",
    "\n",
    "- 덧셈 정리: P(A∪B)=P(A)+P(B)−P(A∩B)"
   ]
  },
  {
   "cell_type": "markdown",
   "metadata": {},
   "source": [
    "✔ 조건부 확률과 독립성\n",
    "\n",
    "조건부 확률: P(A|B) = P(A∩B)/P(B)\n",
    "\n",
    "\n",
    "베이즈 정리: P(A|B) = P(B|A)P(A)/P(B)\n",
    "\n",
    " \n",
    "독립 사건: P(A∩B) = P(A)P(B)\n"
   ]
  },
  {
   "cell_type": "markdown",
   "metadata": {},
   "source": [
    "✔ 순열과 조합\n",
    "\n",
    "순열: 𝑛𝑃𝑘 =n!/(𝑛-k)!\n",
    "​\n",
    " \n",
    "조합: 𝑛𝑃𝑘 =n!/k!(𝑛-k)!"
   ]
  },
  {
   "cell_type": "markdown",
   "metadata": {},
   "source": [
    "✔ 확률 분포\n",
    "\n",
    "- 이산형 확률 변수: 확률 질량 함수 (PMF)\n",
    "- 연속형 확률 변수: 확률 밀도 함수 (PDF)\n",
    "- 누적 분포 함수 (CDF): F(𝑥) =P(X ≤ x)\n",
    "\n",
    "기댓값: E(X)=∑xP(x)\n",
    "분산: Var(X)=E(X 2)−(E(X)) 2\n",
    " \n"
   ]
  }
 ],
 "metadata": {
  "language_info": {
   "name": "python"
  }
 },
 "nbformat": 4,
 "nbformat_minor": 2
}
