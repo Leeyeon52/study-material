{
 "cells": [
  {
   "cell_type": "markdown",
   "metadata": {},
   "source": [
    "레이블인코딩,_원핫인코딩"
   ]
  },
  {
   "cell_type": "markdown",
   "metadata": {},
   "source": [
    "개요\n",
    "- 머신러닝에서 범주형 데이터를 처리하는 방법인 레이블 인코딩(Label Encoding) 과 원-핫 인코딩(One-Hot Encoding) 설명 및 실습."
   ]
  },
  {
   "cell_type": "markdown",
   "metadata": {},
   "source": [
    "주요 내용"
   ]
  },
  {
   "cell_type": "markdown",
   "metadata": {},
   "source": [
    "1) 레이블 인코딩(Label Encoding)\n",
    "- 각 카테고리를 정수 값으로 변환.\n",
    "\n",
    "- 예제:"
   ]
  },
  {
   "cell_type": "code",
   "execution_count": null,
   "metadata": {
    "vscode": {
     "languageId": "plaintext"
    }
   },
   "outputs": [],
   "source": [
    "{'apple': 0, 'banana': 1, 'cherry': 2}\n"
   ]
  },
  {
   "cell_type": "markdown",
   "metadata": {},
   "source": [
    "- 단점: 순서가 없는 데이터에도 숫자가 부여되어 모델이 관계가 있다고 오해할 수 있음."
   ]
  },
  {
   "cell_type": "markdown",
   "metadata": {},
   "source": [
    "2) 원-핫 인코딩(One-Hot Encoding)\n",
    "- 카테고리 개수만큼 이진 벡터를 생성.\n",
    "\n",
    "- 예제:"
   ]
  },
  {
   "cell_type": "code",
   "execution_count": null,
   "metadata": {
    "vscode": {
     "languageId": "plaintext"
    }
   },
   "outputs": [],
   "source": [
    "apple  -> [1, 0, 0]\n",
    "banana -> [0, 1, 0]\n",
    "cherry -> [0, 0, 1]\n"
   ]
  },
  {
   "cell_type": "markdown",
   "metadata": {},
   "source": [
    "- 장점: 숫자 간의 순서 관계 문제 해결.\n",
    "\n",
    "- 단점: 카테고리 개수가 많아지면 차원이 증가하는 문제 발생."
   ]
  },
  {
   "cell_type": "markdown",
   "metadata": {},
   "source": [
    "3) 실습 코드\n",
    "- Pandas와 Scikit-learn을 활용한 레이블 인코딩 및 원-핫 인코딩 코드 포함.\n",
    "\n",
    "- LabelEncoder와 OneHotEncoder 사용 예제."
   ]
  }
 ],
 "metadata": {
  "language_info": {
   "name": "python"
  }
 },
 "nbformat": 4,
 "nbformat_minor": 2
}
