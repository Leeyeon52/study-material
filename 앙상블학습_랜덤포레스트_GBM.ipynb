{
 "cells": [
  {
   "cell_type": "markdown",
   "metadata": {},
   "source": [
    "📌 앙상블학습_랜덤포레스트_GBM"
   ]
  },
  {
   "cell_type": "markdown",
   "metadata": {},
   "source": [
    "📖 주요 내용\n",
    "이 노트북에서는 앙상블 학습(Ensemble Learning) 기법을 활용하여 분류 문제를 해결해.\n",
    "주요 모델:\n",
    "\n",
    "- 랜덤 포레스트(Random Forest)\n",
    "\n",
    "- GBM(Gradient Boosting Machine)\n",
    "\n",
    "랜덤 포레스트는 여러 개의 결정 트리를 평균화하여 과적합을 방지하고,\n",
    "GBM은 결정 트리를 순차적으로 학습하면서 오차를 줄이는 방식을 사용해."
   ]
  },
  {
   "cell_type": "markdown",
   "metadata": {},
   "source": [
    "📌 코드 흐름"
   ]
  },
  {
   "cell_type": "markdown",
   "metadata": {},
   "source": [
    "1️⃣ 데이터 로드 및 전처리\n",
    "- 데이터셋 불러오기\n",
    "\n",
    "- 결측치 처리 및 특성 엔지니어링"
   ]
  },
  {
   "cell_type": "markdown",
   "metadata": {},
   "source": [
    "2️⃣ 랜덤 포레스트 학습\n",
    "- RandomForestClassifier를 사용하여 모델 훈련\n",
    "\n",
    "- 변수 중요도(feature importance) 분석"
   ]
  },
  {
   "cell_type": "markdown",
   "metadata": {},
   "source": [
    "3️⃣ GBM 학습\n",
    "- GradientBoostingClassifier를 사용하여 모델 학습\n",
    "\n",
    "- 랜덤 포레스트와 성능 비교"
   ]
  },
  {
   "cell_type": "markdown",
   "metadata": {},
   "source": [
    "4️⃣ 결과 분석 및 평가\n",
    "- 정확도(Accuracy), F1-score 비교\n",
    "\n",
    "- 시각화를 통한 중요 변수 확인"
   ]
  },
  {
   "cell_type": "markdown",
   "metadata": {},
   "source": [
    "🖥️ 랜덤 포레스트 vs GBM 코드 예제"
   ]
  },
  {
   "cell_type": "code",
   "execution_count": null,
   "metadata": {
    "vscode": {
     "languageId": "plaintext"
    }
   },
   "outputs": [],
   "source": [
    "from sklearn.ensemble import RandomForestClassifier, GradientBoostingClassifier\n",
    "from sklearn.datasets import make_classification\n",
    "from sklearn.model_selection import train_test_split\n",
    "from sklearn.metrics import accuracy_score\n",
    "\n",
    "# 이진 분류 데이터 생성\n",
    "X, y = make_classification(n_samples=1000, n_features=10, random_state=42)\n",
    "\n",
    "# 학습/테스트 데이터 분리\n",
    "X_train, X_test, y_train, y_test = train_test_split(X, y, test_size=0.2, random_state=42)\n",
    "\n",
    "# 랜덤 포레스트 모델\n",
    "rf = RandomForestClassifier(n_estimators=100, random_state=42)\n",
    "rf.fit(X_train, y_train)\n",
    "rf_pred = rf.predict(X_test)\n",
    "\n",
    "# GBM 모델\n",
    "gbm = GradientBoostingClassifier(n_estimators=100, learning_rate=0.1, random_state=42)\n",
    "gbm.fit(X_train, y_train)\n",
    "gbm_pred = gbm.predict(X_test)\n",
    "\n",
    "# 성능 비교\n",
    "print(f\"랜덤 포레스트 정확도: {accuracy_score(y_test, rf_pred):.4f}\")\n",
    "print(f\"GBM 정확도: {accuracy_score(y_test, gbm_pred):.4f}\")\n"
   ]
  }
 ],
 "metadata": {
  "language_info": {
   "name": "python"
  }
 },
 "nbformat": 4,
 "nbformat_minor": 2
}
