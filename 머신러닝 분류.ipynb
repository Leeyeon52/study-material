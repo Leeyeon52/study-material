{
 "cells": [
  {
   "cell_type": "markdown",
   "metadata": {},
   "source": [
    "머신러닝 분류"
   ]
  },
  {
   "cell_type": "markdown",
   "metadata": {},
   "source": [
    "개요\n",
    " - 머신러닝에서 분류(Classification) 는 데이터의 입력값을 바탕으로 특정 클래스로 분류하는 작업을 의미.\n",
    "\n",
    " - 지도 학습(Supervised Learning) 의 한 종류로, 정답(레이블)이 주어진 데이터를 이용해 학습."
   ]
  },
  {
   "cell_type": "markdown",
   "metadata": {},
   "source": [
    "주요 내용\n",
    "1) 로지스틱 회귀(Logistic Regression)\n",
    "  - 선형 회귀(Linear Regression) 와 유사하지만, 분류 문제를 다룰 수 있도록 변형.\n",
    "\n",
    "  - 확률값을 출력하는 시그모이드 함수(Sigmoid Function) 사용:\n",
    "  g(x) = 1 / 1+e¯^x\n",
    "​\n",
    "     \n",
    "     - 결과값이 0~1 사이의 확률 값이 되며, 특정 임계값(예: 0.5)을 기준으로 분류."
   ]
  },
  {
   "cell_type": "markdown",
   "metadata": {},
   "source": [
    "2. 확률 및 베이즈 정리\n",
    "  - 조건부 확률 공식: P(A∣B) = P(A∩B) / P(B)\n",
    "​\n",
    "\n",
    "  - 베이즈 정리: P(A∣B) = P(B∣A) P(A) / P(B)\n",
    "\n",
    " \n",
    "    - 이를 이용한 나이브 베이즈 분류기(Naïve Bayes Classifier) 적용 가능"
   ]
  },
  {
   "cell_type": "markdown",
   "metadata": {},
   "source": [
    "3) 성능 평가 지표\n",
    "- 정확도(Accuracy):  Accuracy= TP + TN / P+N\n",
    "\n",
    "​\n",
    "- 정밀도(Precision): Precision= TP / TP+FP\n",
    " \n",
    "   - Positive로 예측한 것 중 실제로 Positive인 비율.\n",
    "\n",
    "\n",
    "\n",
    "- 재현율(Recall, Sensitivity):Recall = TP / TP+FN\n",
    "\n",
    "\n",
    "   - 실제 Positive 중에서 얼마나 잘 찾아냈는지.\n",
    "\n",
    "\n",
    "\n",
    "- F1-score: F1=2 × Precision × Recall / Precision+Recall\n",
    "\n",
    "   - 정밀도와 재현율의 조화 평균.\n",
    "\n",
    "\n",
    "\n",
    "- 거짓 양성 비율(FPR, False Positive Rate): FPR = FP / FP+TN\n",
    "\n",
    "\n",
    "   - 실제 Negative를 Positive로 잘못 분류하는 비율.\n",
    "\n"
   ]
  },
  {
   "cell_type": "markdown",
   "metadata": {},
   "source": []
  }
 ],
 "metadata": {
  "language_info": {
   "name": "python"
  }
 },
 "nbformat": 4,
 "nbformat_minor": 2
}
