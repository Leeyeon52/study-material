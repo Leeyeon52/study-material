{
 "cells": [
  {
   "cell_type": "markdown",
   "metadata": {},
   "source": [
    "🔹 pandas_5.ipynb: 데이터 결합 및 병합\n",
    "이 파일에서는 여러 개의 데이터프레임을 병합하고 결합하는 방법을 설명합니다."
   ]
  },
  {
   "cell_type": "markdown",
   "metadata": {},
   "source": [
    "📝 주요 내용\n",
    "✅ merge()를 활용한 데이터 병합\n",
    "✅ concat()을 활용한 데이터 연결\n",
    "✅ 피벗 테이블 (pivot()) 활용"
   ]
  },
  {
   "cell_type": "markdown",
   "metadata": {},
   "source": [
    "\n",
    "\n",
    "\n",
    "📌 코드 예제"
   ]
  },
  {
   "cell_type": "code",
   "execution_count": null,
   "metadata": {
    "vscode": {
     "languageId": "plaintext"
    }
   },
   "outputs": [],
   "source": [
    "df1 = pd.DataFrame({'ID': [1, 2, 3], '이름': ['철수', '영희', '길동']})\n",
    "df2 = pd.DataFrame({'ID': [1, 2, 3], '나이': [25, 30, 22]})\n",
    "\n",
    "df_merged = pd.merge(df1, df2, on='ID')\n",
    "print(df_merged)\n"
   ]
  },
  {
   "cell_type": "markdown",
   "metadata": {},
   "source": [
    "📌 merge()는 SQL의 JOIN 연산과 비슷한 기능을 합니다."
   ]
  }
 ],
 "metadata": {
  "language_info": {
   "name": "python"
  }
 },
 "nbformat": 4,
 "nbformat_minor": 2
}
