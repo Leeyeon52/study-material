{
 "cells": [
  {
   "cell_type": "markdown",
   "metadata": {},
   "source": [
    "📌 2. 클러스터링 (Clustering) 기법"
   ]
  },
  {
   "cell_type": "markdown",
   "metadata": {},
   "source": [
    "🔹 K-Means 클러스터링\n",
    "- 데이터를 K개의 군집으로 나눔 (각 데이터는 하나의 클러스터에만 속함)\n",
    "\n",
    "- 군집 중심(centroid)을 기준으로 반복적으로 업데이트하여 최적의 군집을 찾음\n",
    "\n",
    "- 계산 속도가 빠르지만, 클러스터가 원형으로 가정된다는 한계가 있음"
   ]
  },
  {
   "cell_type": "markdown",
   "metadata": {},
   "source": [
    "🖥️ K-Means 코드 예제"
   ]
  },
  {
   "cell_type": "code",
   "execution_count": null,
   "metadata": {},
   "outputs": [],
   "source": [
    "from sklearn.cluster import KMeans\n",
    "import numpy as np\n",
    "import matplotlib.pyplot as plt\n",
    "\n",
    "# 랜덤 데이터 생성\n",
    "np.random.seed(42)\n",
    "X = np.random.rand(100, 2)\n",
    "\n",
    "# K-Means 클러스터링 (K=3)\n",
    "kmeans = KMeans(n_clusters=3, random_state=42)\n",
    "kmeans.fit(X)\n",
    "\n",
    "# 결과 시각화\n",
    "plt.scatter(X[:, 0], X[:, 1], c=kmeans.labels_, cmap='viridis')\n",
    "plt.scatter(kmeans.cluster_centers_[:, 0], kmeans.cluster_centers_[:, 1], \n",
    "            s=200, c='red', marker='X', label=\"Centroids\")\n",
    "plt.title(\"K-Means Clustering\")\n",
    "plt.legend()\n",
    "plt.show()\n"
   ]
  },
  {
   "cell_type": "markdown",
   "metadata": {},
   "source": [
    "🔹 GMM(Gaussian Mixture Model, 가우시안 혼합 모델)\n",
    "- K-Means와 달리, 각 데이터가 여러 클러스터에 속할 확률을 가짐\n",
    "\n",
    "- 클러스터를 가우시안 분포(정규 분포)의 조합으로 모델링\n",
    "\n",
    "- K-Means보다 더 유연한 클러스터링 가능 (클러스터가 원형이 아니어도 잘 동작)\n",
    "\n",
    "- 이상치 탐지(Anomaly Detection)에도 사용됨"
   ]
  },
  {
   "cell_type": "markdown",
   "metadata": {},
   "source": [
    "🖥️ GMM 코드 예제"
   ]
  },
  {
   "cell_type": "code",
   "execution_count": null,
   "metadata": {},
   "outputs": [],
   "source": [
    "from sklearn.mixture import GaussianMixture\n",
    "from sklearn.datasets import make_blobs\n",
    "\n",
    "# 샘플 데이터 생성 (3개의 클러스터)\n",
    "X, _ = make_blobs(n_samples=300, centers=3, cluster_std=1.0, random_state=42)\n",
    "\n",
    "# GMM 모델 학습\n",
    "gmm = GaussianMixture(n_components=3, random_state=42)\n",
    "gmm.fit(X)\n",
    "\n",
    "# 클러스터 예측 (확률 기반)\n",
    "labels = gmm.predict(X)\n",
    "\n",
    "# 결과 시각화\n",
    "plt.scatter(X[:, 0], X[:, 1], c=labels, cmap='viridis', alpha=0.7)\n",
    "plt.scatter(gmm.means_[:, 0], gmm.means_[:, 1], s=200, c='red', marker='X', label=\"Centroids\")\n",
    "plt.title(\"GMM을 이용한 클러스터링\")\n",
    "plt.legend()\n",
    "plt.show()\n"
   ]
  },
  {
   "cell_type": "markdown",
   "metadata": {},
   "source": [
    "📌 3. K-Means vs GMM 비교"
   ]
  },
  {
   "cell_type": "markdown",
   "metadata": {},
   "source": [
    "비교 항목\tK-Means\tGMM\n",
    "군집 형태\t원형(구 형태)\t다양한 모양 가능(타원형 등)\n",
    "군집 결정 방식\t거리 기반(Hard Clustering)\t확률 기반(Soft Clustering)\n",
    "이상치 탐지\t어려움\t확률을 기반으로 이상치 탐지 가능\n",
    "계산 속도\t빠름\t상대적으로 느림"
   ]
  },
  {
   "cell_type": "markdown",
   "metadata": {},
   "source": [
    "📌 4. 차원 축소 (Dimensionality Reduction) 기법"
   ]
  },
  {
   "cell_type": "markdown",
   "metadata": {},
   "source": [
    "🔹 PCA(Principal Component Analysis, 주성분 분석)\n",
    "- 데이터를 선형 변환하여 가장 중요한 축(주성분)을 찾아 차원을 축소\n",
    "\n",
    "- 데이터의 정보 손실을 최소화하면서 차원 감소 가능"
   ]
  },
  {
   "cell_type": "code",
   "execution_count": null,
   "metadata": {},
   "outputs": [],
   "source": [
    "from sklearn.decomposition import PCA\n",
    "from sklearn.preprocessing import StandardScaler\n",
    "\n",
    "# 랜덤 데이터 (10개의 특징)\n",
    "np.random.seed(42)\n",
    "X = np.random.rand(200, 10)\n",
    "\n",
    "# 데이터 정규화\n",
    "scaler = StandardScaler()\n",
    "X_scaled = scaler.fit_transform(X)\n",
    "\n",
    "# PCA 적용 (2개 주성분)\n",
    "pca = PCA(n_components=2)\n",
    "X_pca = pca.fit_transform(X_scaled)\n",
    "\n",
    "# 결과 시각화\n",
    "plt.scatter(X_pca[:, 0], X_pca[:, 1], alpha=0.7)\n",
    "plt.xlabel(\"Principal Component 1\")\n",
    "plt.ylabel(\"Principal Component 2\")\n",
    "plt.title(\"PCA 결과\")\n",
    "plt.show()\n"
   ]
  },
  {
   "cell_type": "markdown",
   "metadata": {},
   "source": [
    "🔹 LDA(Linear Discriminant Analysis, 선형 판별 분석)\n",
    "- PCA와 유사하지만, 클래스 간 분류를 고려하여 차원을 축소\n",
    "\n",
    "- 지도 학습(Supervised Learning) 성격을 가지므로, 라벨 정보가 필요\n",
    "\n",
    "- 분류(Classification) 문제에서 차원 축소 후 성능 향상을 위해 사용됨"
   ]
  },
  {
   "cell_type": "markdown",
   "metadata": {},
   "source": [
    "🖥️ LDA 코드 예제"
   ]
  },
  {
   "cell_type": "code",
   "execution_count": null,
   "metadata": {},
   "outputs": [],
   "source": [
    "from sklearn.discriminant_analysis import LinearDiscriminantAnalysis\n",
    "from sklearn.datasets import make_classification\n",
    "import matplotlib.pyplot as plt\n",
    "\n",
    "# 샘플 데이터 생성 (2개의 클래스)\n",
    "X, y = make_classification(n_samples=200, n_features=10, n_classes=2, random_state=42)\n",
    "\n",
    "# LDA 적용 (1개 축으로 차원 축소)\n",
    "lda = LinearDiscriminantAnalysis(n_components=1)\n",
    "X_lda = lda.fit_transform(X, y)\n",
    "\n",
    "# 결과 시각화\n",
    "plt.scatter(X_lda, [0] * len(X_lda), c=y, cmap='viridis', alpha=0.7)\n",
    "plt.xlabel(\"LDA 축\")\n",
    "plt.title(\"LDA 차원 축소 결과\")\n",
    "plt.show()\n"
   ]
  },
  {
   "cell_type": "markdown",
   "metadata": {},
   "source": [
    "🔹 t-SNE(t-Distributed Stochastic Neighbor Embedding)\n",
    "- 비선형 차원 축소 기법 → 고차원 데이터를 2D 또는 3D로 시각화할 때 주로 사용\n",
    "\n",
    "- PCA와 다르게, 데이터의 국소적인 구조(클러스터)를 보존\n",
    "\n",
    "- 계산량이 많아 대용량 데이터에는 적합하지 않음"
   ]
  },
  {
   "cell_type": "markdown",
   "metadata": {},
   "source": [
    "🖥️ t-SNE 코드 예제"
   ]
  },
  {
   "cell_type": "code",
   "execution_count": null,
   "metadata": {},
   "outputs": [],
   "source": [
    "from sklearn.manifold import TSNE\n",
    "from sklearn.datasets import load_digits\n",
    "import seaborn as sns\n",
    "\n",
    "# 손글씨 데이터 로드 (64차원)\n",
    "digits = load_digits()\n",
    "X, y = digits.data, digits.target\n",
    "\n",
    "# t-SNE 적용 (2D 변환)\n",
    "tsne = TSNE(n_components=2, random_state=42, perplexity=30)\n",
    "X_tsne = tsne.fit_transform(X)\n",
    "\n",
    "# 결과 시각화\n",
    "plt.figure(figsize=(8, 6))\n",
    "sns.scatterplot(x=X_tsne[:, 0], y=X_tsne[:, 1], hue=y, palette=\"viridis\", alpha=0.7)\n",
    "plt.xlabel(\"t-SNE 축 1\")\n",
    "plt.ylabel(\"t-SNE 축 2\")\n",
    "plt.title(\"t-SNE 차원 축소 결과\")\n",
    "plt.legend(title=\"숫자 클래스\")\n",
    "plt.show()\n"
   ]
  },
  {
   "cell_type": "markdown",
   "metadata": {},
   "source": [
    "📌 5. 기법 비교 요약"
   ]
  },
  {
   "cell_type": "code",
   "execution_count": 6,
   "metadata": {},
   "outputs": [
    {
     "data": {
      "image/png": "[encoded data removed]",
      "text/plain": [
       "<IPython.core.display.Image object>"
      ]
     },
     "execution_count": 6,
     "metadata": {},
     "output_type": "execute_result"
    }
   ],
   "source": [
    "from IPython.display import Image\n",
    "Image(r\"C:\\Users\\dsy49\\OneDrive\\바탕 화면\\새 폴더 (2)\\스크린샷 2025-03-26 185808.png\")"
   ]
  },
  {
   "cell_type": "markdown",
   "metadata": {},
   "source": [
    "📌 6. 결론"
   ]
  },
  {
   "cell_type": "markdown",
   "metadata": {},
   "source": [
    "- 클러스터링에는 K-Means(빠름) 과 GMM(더 유연함) 을 선택 가능\n",
    "\n",
    "- 차원 축소에는 PCA(일반적인 축소) 와 t-SNE(시각화용) 을 활용\n",
    "\n",
    "- 분류 기반 차원 축소는 LDA 가 가장 적절"
   ]
  }
 ],
 "metadata": {
  "kernelspec": {
   "display_name": "base",
   "language": "python",
   "name": "python3"
  },
  "language_info": {
   "codemirror_mode": {
    "name": "ipython",
    "version": 3
   },
   "file_extension": ".py",
   "mimetype": "text/x-python",
   "name": "python",
   "nbconvert_exporter": "python",
   "pygments_lexer": "ipython3",
   "version": "3.12.7"
  }
 },
 "nbformat": 4,
 "nbformat_minor": 2
}
