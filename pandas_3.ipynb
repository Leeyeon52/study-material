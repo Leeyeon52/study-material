{
 "cells": [
  {
   "cell_type": "markdown",
   "metadata": {},
   "source": [
    "🔹 pandas_3.ipynb: 데이터프레임 중심 프로그래밍\n",
    "이 파일에서는 데이터를 변형하고 가공하는 다양한 기법을 다룹니다."
   ]
  },
  {
   "cell_type": "markdown",
   "metadata": {},
   "source": [
    "\n",
    "📝 주요 내용\n",
    "✅ groupby()를 활용한 데이터 그룹화\n",
    "✅ apply(), map(), lambda 함수를 활용한 데이터 변환\n",
    "✅ 결측치 처리 (dropna(), fillna())\n"
   ]
  },
  {
   "cell_type": "markdown",
   "metadata": {},
   "source": [
    "📌 코드 예제"
   ]
  },
  {
   "cell_type": "code",
   "execution_count": null,
   "metadata": {
    "vscode": {
     "languageId": "plaintext"
    }
   },
   "outputs": [],
   "source": [
    "# 성별을 기준으로 그룹화하여 평균 나이 계산\n",
    "df_grouped = df.groupby('성별').mean()\n",
    "print(df_grouped)"
   ]
  },
  {
   "cell_type": "markdown",
   "metadata": {},
   "source": [
    "\n",
    "\n",
    "\n",
    "\n",
    "📌 groupby()를 사용하면 데이터를 그룹별로 분석할 수 있습니다.\n",
    "\n"
   ]
  }
 ],
 "metadata": {
  "language_info": {
   "name": "python"
  }
 },
 "nbformat": 4,
 "nbformat_minor": 2
}
