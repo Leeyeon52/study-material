{
 "cells": [
  {
   "cell_type": "markdown",
   "metadata": {},
   "source": [
    "# Git 강의자료 요약\n",
    "\n",
    "## 1. Git 개요\n",
    "- **버전 관리 시스템**: 파일 변경 사항을 추적하고 협업을 용이하게 함\n",
    "- **Git의 특징**\n",
    "  - **가지 치기(branch)와 병합(merge)**\n",
    "  - **가볍고 빠름**\n",
    "  - **분산형 버전 관리**\n",
    "  - **데이터 보장**\n",
    "  - **Staging Area(준비 영역) 제공**\n",
    "  - **오픈 소스**"
   ]
  },
  {
   "cell_type": "markdown",
   "metadata": {},
   "source": [
    "## 2. Git 설치 및 설정\n",
    "### 🔹 Git 설치\n",
    "1. Git 공식 사이트에서 다운로드: [git-scm.com/downloads](https://git-scm.com/downloads)\n",
    "2. 설치 후 **Git Bash** 실행\n",
    "3. 설치 확인:  \n",
    "   ```bash\n",
    "   git --version\n",
    "   ```\n",
    "\n",
    "### 🔹 Git 초기 설정\n",
    "```bash\n",
    "git config --global user.name \"사용자이름\"\n",
    "git config --global user.email \"이메일\"\n",
    "git config --list  # 설정 확인"
   ]
  },
  {
   "cell_type": "markdown",
   "metadata": {},
   "source": [
    "## 3. Git 저장소 설정\n",
    "### 🔹 Git 저장소 생성\n",
    "```bash\n",
    "cd 프로젝트폴더  # 프로젝트 폴더로 이동\n",
    "git init  # Git 저장소 생성\n",
    "```\n",
    "\n",
    "### 🔹 기존 프로젝트를 Git 저장소로 변환\n",
    "```bash\n",
    "git init\n",
    "git add .\n",
    "git commit -m \"Initial commit\""
   ]
  },
  {
   "cell_type": "markdown",
   "metadata": {},
   "source": [
    "## 4. 파일 관리\n",
    "### 🔹 Git 파일 상태 확인\n",
    "```bash\n",
    "git status  # 파일의 상태 확인\n",
    "```\n",
    "\n",
    "### 🔹 파일 추가 (Staging Area로 이동)\n",
    "```bash\n",
    "git add 파일이름   # 특정 파일 추가\n",
    "git add .   # 모든 파일 추가\n",
    "```\n",
    "\n",
    "### 🔹 변경 사항 저장 (Commit)\n",
    "```bash\n",
    "git commit -m \"설명 추가\"\n",
    "```\n",
    "\n",
    "### 🔹 Commit 기록 확인\n",
    "```bash\n",
    "git log  # 전체 로그 확인\n",
    "git log --oneline  # 한 줄 로그"
   ]
  },
  {
   "cell_type": "markdown",
   "metadata": {},
   "source": [
    "## 5. Branch(브랜치)\n",
    "### 🔹 브랜치 개념\n",
    "- **메인 브랜치**: 안정적인 배포가 가능한 브랜치\n",
    "- **토픽 브랜치**: 기능 추가 또는 버그 수정을 위한 브랜치\n",
    "\n",
    "### 🔹 브랜치 생성 및 전환\n",
    "```bash\n",
    "git branch 브랜치이름  # 브랜치 생성\n",
    "git checkout 브랜치이름  # 브랜치 전환\n",
    "git checkout -b 브랜치이름  # 브랜치 생성과 동시에 전환\n",
    "```\n",
    "\n",
    "### 🔹 브랜치 목록 확인\n",
    "```bash\n",
    "git branch  # 로컬 브랜치 목록\n",
    "```\n",
    "\n",
    "### 🔹 브랜치 병합 (Merge)\n",
    "```bash\n",
    "git checkout main  # 메인 브랜치로 이동\n",
    "git merge 브랜치이름  # 브랜치 병합\n",
    "```\n",
    "\n",
    "### 🔹 브랜치 삭제\n",
    "```bash\n",
    "git branch -d 브랜치이름  # 병합된 브랜치 삭제\n",
    "git branch -D 브랜치이름  # 강제 삭제"
   ]
  },
  {
   "cell_type": "markdown",
   "metadata": {},
   "source": [
    "## 6. 원격 저장소(GitHub, GitLab)\n",
    "### 🔹 원격 저장소 연결\n",
    "```bash\n",
    "git remote add origin 원격저장소URL\n",
    "git remote -v  # 연결된 원격 저장소 확인\n",
    "```\n",
    "\n",
    "### 🔹 원격 저장소에서 복제(Clone)\n",
    "```bash\n",
    "git clone 원격저장소URL\n",
    "```\n",
    "\n",
    "### 🔹 원격 저장소에서 변경 사항 가져오기\n",
    "```bash\n",
    "git pull origin main  # 최신 변경 사항 가져오기\n",
    "git fetch  # 원격 저장소의 변경 사항을 로컬에 반영 (병합 X)\n",
    "```\n",
    "\n",
    "### 🔹 원격 저장소에 변경 사항 반영\n",
    "```bash\n",
    "git push origin main  # 로컬 변경 사항을 원격 저장소에 반영"
   ]
  },
  {
   "cell_type": "markdown",
   "metadata": {},
   "source": [
    "## 7. Merge Conflict 해결\n",
    "### 🔹 충돌 발생 시 해결 방법\n",
    "1. 충돌이 발생한 파일 확인\n",
    "   ```bash\n",
    "   git status\n",
    "   ```\n",
    "2. 파일 열어 충돌 부분 수정 후 저장\n",
    "3. 변경 사항 스테이징 후 커밋\n",
    "   ```bash\n",
    "   git add 파일이름\n",
    "git commit -m \"Merge conflict 해결\""
   ]
  },
  {
   "cell_type": "markdown",
   "metadata": {},
   "source": [
    "## 8. 기타 유용한 명령어\n",
    "```bash\n",
    "git diff  # 변경 사항 비교\n",
    "git reset --hard HEAD  # 마지막 커밋으로 되돌리기\n",
    "git stash  # 임시 저장 후 나중에 복원\n",
    "git stash pop  # 임시 저장된 변경 사항 복원\n",
    "git log --graph --oneline --all  # 브랜치 구조 확인\n",
    "```\n"
   ]
  },
  {
   "cell_type": "markdown",
   "metadata": {},
   "source": [
    "## ✅ 마무리\n",
    "이 문서는 Git의 핵심 개념과 명령어를 빠르게 학습할 수 있도록 정리되었습니다. 실습을 통해 Git 사용법을 익혀보세요! 🚀\n",
    "\n"
   ]
  }
 ],
 "metadata": {
  "language_info": {
   "name": "python"
  }
 },
 "nbformat": 4,
 "nbformat_minor": 2
}
