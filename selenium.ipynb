{
 "cells": [
  {
   "cell_type": "markdown",
   "metadata": {},
   "source": [
    "# Selenium 강의자료 요약\n",
    "\n",
    "## 1. 웹 스크래핑과 Selenium\n",
    "- **웹 스크래핑(Web Scraping)**: 웹 사이트에서 원하는 데이터를 수집하고 가공하는 행위\n",
    "- **Selenium**: 웹 브라우저를 자동으로 제어할 수 있는 웹 테스트 자동화 도구\n",
    "- Python 또는 Java에서 라이브러리로 활용 가능\n",
    "\n"
   ]
  },
  {
   "cell_type": "markdown",
   "metadata": {},
   "source": [
    "### 🔹 Selenium 웹 스크래핑 과정\n",
    "1. **웹 정보 요청** (브라우저 실행 및 페이지 로드)\n",
    "2. **정보 분석** (HTML 구조 확인 및 요소 선택)\n",
    "3. **내용 추출** (필요한 데이터 가져오기)\n",
    "\n"
   ]
  },
  {
   "cell_type": "markdown",
   "metadata": {},
   "source": [
    "## 2. Selenium 기본 설정\n",
    "### 🔹 Selenium 설치\n",
    "```bash\n",
    "pip install selenium"
   ]
  },
  {
   "cell_type": "markdown",
   "metadata": {},
   "source": [
    "### 🔹 웹 드라이버 실행 (예: Firefox)\n",
    "```python\n",
    "from selenium import webdriver\n",
    "from selenium.webdriver.common.by import By\n",
    "\n",
    "driver = webdriver.Firefox()  # 실행 브라우저\n",
    "driver.get('https://news.naver.com')  # 웹 페이지 로드\n",
    "driver.quit()  # 브라우저 종료\n",
    "```\n",
    "\n",
    "### 🔹 `with` 구문 사용 (메모리 점유 방지)\n",
    "```python\n",
    "from selenium import webdriver\n",
    "from selenium.webdriver.common.by import By\n",
    "\n",
    "with webdriver.Firefox() as driver:\n",
    "    driver.get('https://news.naver.com')"
   ]
  },
  {
   "cell_type": "markdown",
   "metadata": {},
   "source": [
    "## 3. 요소 찾기 (Elements Selection)\n",
    "### 🔹 태그 이름으로 요소 찾기\n",
    "```python\n",
    "e = driver.find_element(By.TAG_NAME, 'p')\n",
    "print(e.text)  # 첫 번째 <p> 태그의 내용 출력"
   ]
  },
  {
   "cell_type": "markdown",
   "metadata": {},
   "source": [
    "## 3. 요소 찾기 (Elements Selection)\n",
    "### 🔹 태그 이름으로 요소 찾기\n",
    "```python\n",
    "e = driver.find_element(By.TAG_NAME, 'p')\n",
    "print(e.text)  # 첫 번째 <p> 태그의 내용 출력\n"
   ]
  },
  {
   "cell_type": "markdown",
   "metadata": {},
   "source": [
    "### 🔹 여러 개의 동일한 요소 가져오기\n",
    "```python\n",
    "e_list = driver.find_elements(By.TAG_NAME, 'p')\n",
    "for e in e_list:\n",
    "    print(e.text)"
   ]
  },
  {
   "cell_type": "markdown",
   "metadata": {},
   "source": [
    "\n",
    "## 4. Class, ID로 요소 찾기\n",
    "### 🔹 `class` 속성으로 찾기\n",
    "```python\n",
    "e = driver.find_element(By.CLASS_NAME, 'bold')\n",
    "print(e.text)"
   ]
  },
  {
   "cell_type": "markdown",
   "metadata": {},
   "source": [
    "### 🔹 `id` 속성으로 찾기\n",
    "```python\n",
    "e = driver.find_element(By.ID, 'kor-p')\n",
    "print(e.text)"
   ]
  },
  {
   "cell_type": "markdown",
   "metadata": {},
   "source": [
    "### 🔹 여러 method 함께 사용하기\n",
    "```python\n",
    "e = driver.find_element(By.CLASS_NAME, 'small')\n",
    "e_p = e.find_element(By.TAG_NAME, 'p')\n",
    "print(e_p.text)"
   ]
  },
  {
   "cell_type": "markdown",
   "metadata": {},
   "source": [
    "## 5. XPath를 활용한 요소 찾기\n",
    "### 🔹 XPath란?\n",
    "- XML 문서에서 특정 노드에 접근하기 위한 질의어\n",
    "- DOM(Document Object Model) 기반으로 요소의 주소 표현 가능"
   ]
  },
  {
   "cell_type": "markdown",
   "metadata": {},
   "source": [
    "### 🔹 XPath 기본 문법\n",
    "| XPath 표현 | 설명 |\n",
    "|------------|------|\n",
    "| `/html/body/p` | body 태그 내부의 p 태그 선택 |\n",
    "| `//p` | 문서 내 모든 p 태그 선택 |\n",
    "| `//div/p` | div 내부의 모든 p 태그 선택 |\n",
    "| `//p[@class]` | class 속성을 가진 모든 p 태그 선택 |\n",
    "| `//p[@class='bold']` | class 값이 'bold'인 p 태그 선택 |"
   ]
  },
  {
   "cell_type": "markdown",
   "metadata": {},
   "source": [
    "### 🔹 XPath로 요소 찾기\n",
    "```python\n",
    "e = driver.find_element(By.XPATH, '//p[@class=\"bold\"]')\n",
    "print(e.text)"
   ]
  },
  {
   "cell_type": "markdown",
   "metadata": {},
   "source": [
    "## 6. 브라우저에서 XPath 활용하기\n",
    "1. **Chrome** / **Firefox** 개발자 도구 (`F12` 또는 `우클릭 → 검사`)\n",
    "2. 요소 선택 후 `우클릭 → Copy → Copy XPath`\n",
    "3. Selenium에서 해당 XPath 사용하여 요소 찾기"
   ]
  },
  {
   "cell_type": "markdown",
   "metadata": {},
   "source": [
    "```python\n",
    "xpath = '/html/body/div/p'\n",
    "e = driver.find_element(By.XPATH, xpath)\n",
    "print(e.text)"
   ]
  },
  {
   "cell_type": "markdown",
   "metadata": {},
   "source": [
    "## ✅ 마무리\n",
    "이 문서는 Selenium을 활용한 웹 스크래핑 기초 개념과 주요 명령어를 정리한 것입니다. 실습을 통해 직접 코드를 실행하면서 익혀보세요! 🚀"
   ]
  }
 ],
 "metadata": {
  "language_info": {
   "name": "python"
  }
 },
 "nbformat": 4,
 "nbformat_minor": 2
}
