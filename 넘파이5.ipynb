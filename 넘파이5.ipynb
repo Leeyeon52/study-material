{
 "cells": [
  {
   "cell_type": "markdown",
   "metadata": {},
   "source": [
    "numpy_5.ipynb 파일 내용 요약"
   ]
  },
  {
   "cell_type": "markdown",
   "metadata": {},
   "source": [
    "주제: 붓꽃(Iris) 데이터셋을 활용한 실전 데이터 분석"
   ]
  },
  {
   "cell_type": "markdown",
   "metadata": {},
   "source": [
    "주요 내용:\n",
    "- NumPy를 이용한 데이터 분석 및 시각화\n",
    "- 그래프 배경 색칠 기법\n",
    "- 붓꽃 데이터셋을 활용한 시각적 구분 (산점도 활용)\n",
    "- 품종 분류 경계선 시각화\n",
    "\n",
    "초반 코드 및 설정:\n",
    "- numpy 및 matplotlib.pyplot 모듈 로드\n",
    "- 랜덤 시드 및 출력 형식 설정\n",
    "- 데이터 시각화용 그래프 설정 및 배경 색칠 기법 설명"
   ]
  },
  {
   "cell_type": "markdown",
   "metadata": {},
   "source": [
    "붓꽃 데이터 분석"
   ]
  },
  {
   "cell_type": "code",
   "execution_count": null,
   "metadata": {
    "vscode": {
     "languageId": "plaintext"
    }
   },
   "outputs": [],
   "source": [
    "points = np.arange(-1, 1.01, 0.2)\n",
    "xs, ys = np.meshgrid(points, points)\n"
   ]
  },
  {
   "cell_type": "markdown",
   "metadata": {},
   "source": [
    "- np.arange(-1, 1.01, 0.2): -1에서 1까지 0.2 간격의 숫자 배열 생성\n",
    "- np.meshgrid(): 2D 좌표 행렬 생성 (X축, Y축 좌표 값 매핑)\n"
   ]
  }
 ],
 "metadata": {
  "language_info": {
   "name": "python"
  }
 },
 "nbformat": 4,
 "nbformat_minor": 2
}
