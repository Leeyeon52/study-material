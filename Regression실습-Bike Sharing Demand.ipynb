{
 "cells": [
  {
   "cell_type": "markdown",
   "metadata": {},
   "source": [
    "📌 4. 5.9 Regression실습-Bike Sharing Demand"
   ]
  },
  {
   "cell_type": "markdown",
   "metadata": {},
   "source": [
    "📖 주요 내용\n",
    "이 노트북에서는 자전거 대여량을 예측하는 회귀 분석(Regression) 을 수행해.\n",
    "날씨, 요일, 시간 등의 데이터를 이용하여 대여량을 예측하는 것이 목표야."
   ]
  },
  {
   "cell_type": "markdown",
   "metadata": {},
   "source": [
    "📌 코드 흐름"
   ]
  },
  {
   "cell_type": "markdown",
   "metadata": {},
   "source": [
    "1️⃣ 데이터 로드 및 탐색\n",
    "- bike_sharing_demand.csv 파일을 불러옴\n",
    "\n",
    "- 기초 통계 분석 및 데이터 시각화"
   ]
  },
  {
   "cell_type": "markdown",
   "metadata": {},
   "source": [
    "2️⃣ 데이터 전처리\n",
    "- 날짜 데이터를 연, 월, 일, 시간으로 변환\n",
    "\n",
    "- 결측치 처리 및 이상값 제거"
   ]
  },
  {
   "cell_type": "markdown",
   "metadata": {},
   "source": [
    "3️⃣ 회귀 모델 학습\n",
    "- 선형 회귀(Linear Regression)\n",
    "\n",
    "- 랜덤 포레스트 회귀(Random Forest Regressor)\n",
    "\n",
    "- 그레이디언트 부스팅 회귀(GBM, XGBoost 등)"
   ]
  },
  {
   "cell_type": "markdown",
   "metadata": {},
   "source": [
    "4️⃣ 모델 평가\n",
    "- R² 점수 및 RMSE 비교\n",
    "\n",
    "- 중요 변수 시각화"
   ]
  },
  {
   "cell_type": "markdown",
   "metadata": {},
   "source": [
    "🖥️ 선형 회귀 코드 예제"
   ]
  },
  {
   "cell_type": "code",
   "execution_count": null,
   "metadata": {
    "vscode": {
     "languageId": "plaintext"
    }
   },
   "outputs": [],
   "source": [
    "from sklearn.linear_model import LinearRegression\n",
    "from sklearn.metrics import mean_squared_error\n",
    "\n",
    "# 예제 데이터 (날씨, 요일, 시간에 따른 자전거 대여량)\n",
    "np.random.seed(42)\n",
    "X = np.random.rand(200, 3)  \n",
    "y = 5*X[:, 0] + 3*X[:, 1] + 2*X[:, 2] + np.random.randn(200)  \n",
    "\n",
    "# 학습/테스트 데이터 분리\n",
    "X_train, X_test, y_train, y_test = train_test_split(X, y, test_size=0.2, random_state=42)\n",
    "\n",
    "# 선형 회귀 모델 학습\n",
    "model = LinearRegression()\n",
    "model.fit(X_train, y_train)\n",
    "\n",
    "# 예측 및 평가\n",
    "y_pred = model.predict(X_test)\n",
    "rmse = mean_squared_error(y_test, y_pred, squared=False)\n",
    "\n",
    "print(f\"선형 회귀 RMSE: {rmse:.4f}\")\n"
   ]
  }
 ],
 "metadata": {
  "language_info": {
   "name": "python"
  }
 },
 "nbformat": 4,
 "nbformat_minor": 2
}
