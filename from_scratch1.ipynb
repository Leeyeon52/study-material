{
 "cells": [
  {
   "cell_type": "markdown",
   "metadata": {},
   "source": [
    "from_scratch_1.ipynb"
   ]
  },
  {
   "cell_type": "markdown",
   "metadata": {},
   "source": [
    "개요\n",
    "- 이 파일은 머신러닝 알고리즘을 기초부터 직접 구현하는 과정에 대한 설명과 코드로 구성되어 있습니다. NumPy를 활용해 기본적인 알고리즘을 수식과 함께 설명합니다."
   ]
  },
  {
   "cell_type": "markdown",
   "metadata": {},
   "source": [
    "주요 내용\n",
    "\n",
    "1.데이터 준비 및 전처리\n",
    "\n",
    "  - NumPy를 사용해 데이터 생성\n",
    "  - 표준화(normalization) 및 정규화(standardization) 설명\n",
    "  - 결측치 처리 및 데이터 정리 코드\n",
    "\n",
    "2.선형 회귀(Linear Regression) 구현\n",
    "\n",
    "  - y = mx + b 수식 설명\n",
    "  - 비용 함수(cost function) 및 손실(loss) 개념 설명\n",
    "  - 경사 하강법(Gradient Descent) 코드 구현\n",
    "\n",
    "3.모델 학습 및 평가\n",
    "\n",
    "  - 모델 학습을 위한 반복(iteration) 과정\n",
    "  - 학습률(learning rate) 조절 및 최적화\n",
    "  - 예측 결과 시각화"
   ]
  }
 ],
 "metadata": {
  "language_info": {
   "name": "python"
  }
 },
 "nbformat": 4,
 "nbformat_minor": 2
}
