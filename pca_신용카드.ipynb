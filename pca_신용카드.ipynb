{
 "cells": [
  {
   "cell_type": "markdown",
   "metadata": {},
   "source": [
    "📌 2. PCA_신용카드"
   ]
  },
  {
   "cell_type": "markdown",
   "metadata": {},
   "source": [
    "📖 주요 내용\n",
    "PCA(주성분 분석, Principal Component Analysis) 를 활용하여 신용카드 고객 데이터를 분석하는 실습이야.\n",
    "PCA는 고차원 데이터를 저차원으로 줄이는 차원 축소 기법으로, 데이터의 주요 특징만 남기면서 정보 손실을 최소화하는 역할을 함."
   ]
  },
  {
   "cell_type": "markdown",
   "metadata": {},
   "source": [
    "📌 코드 흐름"
   ]
  },
  {
   "cell_type": "markdown",
   "metadata": {},
   "source": [
    "1️⃣ 데이터 로드 및 확인\n",
    "- 신용카드 고객 데이터를 불러옴\n",
    "\n",
    "- 데이터 형태, 결측치 여부 확인"
   ]
  },
  {
   "cell_type": "markdown",
   "metadata": {},
   "source": [
    "2️⃣ PCA 적용 전 데이터 분석\n",
    "- 데이터 정규화 (StandardScaler 사용)\n",
    "\n",
    "- 변수 간 상관관계 분석"
   ]
  },
  {
   "cell_type": "markdown",
   "metadata": {},
   "source": [
    "3️⃣ PCA 적용\n",
    "- 주성분 개수 결정 (설명 분산 비율 확인)\n",
    "\n",
    "- 차원 축소 후 데이터 시각화 (2D/3D 플롯)"
   ]
  },
  {
   "cell_type": "markdown",
   "metadata": {},
   "source": [
    "4️⃣ PCA 적용 후 군집화\n",
    "- K-Means 등과 결합하여 군집 분석 가능"
   ]
  },
  {
   "cell_type": "markdown",
   "metadata": {},
   "source": [
    "🖥️ PCA 코드 예제"
   ]
  },
  {
   "cell_type": "code",
   "execution_count": null,
   "metadata": {
    "vscode": {
     "languageId": "plaintext"
    }
   },
   "outputs": [],
   "source": [
    "from sklearn.decomposition import PCA\n",
    "from sklearn.preprocessing import StandardScaler\n",
    "import numpy as np\n",
    "import matplotlib.pyplot as plt\n",
    "\n",
    "# 데이터 로드 (가상의 신용카드 고객 데이터)\n",
    "np.random.seed(42)\n",
    "X = np.random.rand(200, 10)\n",
    "\n",
    "# 데이터 정규화\n",
    "scaler = StandardScaler()\n",
    "X_scaled = scaler.fit_transform(X)\n",
    "\n",
    "# PCA 적용 (2개 주성분)\n",
    "pca = PCA(n_components=2)\n",
    "X_pca = pca.fit_transform(X_scaled)\n",
    "\n",
    "# 결과 시각화\n",
    "plt.scatter(X_pca[:, 0], X_pca[:, 1], alpha=0.7)\n",
    "plt.xlabel(\"Principal Component 1\")\n",
    "plt.ylabel(\"Principal Component 2\")\n",
    "plt.title(\"PCA 결과\")\n",
    "plt.show()\n"
   ]
  }
 ],
 "metadata": {
  "language_info": {
   "name": "python"
  }
 },
 "nbformat": 4,
 "nbformat_minor": 2
}
