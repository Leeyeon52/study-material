{
 "cells": [
  {
   "cell_type": "markdown",
   "metadata": {},
   "source": [
    "추론과 검정"
   ]
  },
  {
   "cell_type": "markdown",
   "metadata": {},
   "source": [
    "✔ 확률 분포와 표본 통계량\n",
    "\n",
    "- 정규 분포: \n",
    "𝑋\n",
    "∼\n",
    "𝑁\n",
    "(\n",
    "𝜇\n",
    ",\n",
    "𝜎\n",
    "2\n",
    ")\n",
    "X∼N(μ,σ \n",
    "2\n",
    " )\n",
    "- 이항 분포: \n",
    "𝑋\n",
    "∼\n",
    "𝐵\n",
    "(\n",
    "𝑛\n",
    ",\n",
    "𝑝\n",
    ")\n",
    "X∼B(n,p)\n",
    "- 포아송 분포: \n",
    "𝑋\n",
    "∼\n",
    "𝑃\n",
    "𝑜\n",
    "𝑖\n",
    "(\n",
    "𝜆\n",
    ")\n",
    "X∼Poi(λ)\n",
    "- 중심극한정리: 표본 평균이 정규분포를 따른다."
   ]
  },
  {
   "cell_type": "markdown",
   "metadata": {},
   "source": [
    "✔ 신뢰구간 (Confidence Interval)\n",
    "\n",
    "- 모평균 \n",
    "𝜇\n",
    "μ 신뢰구간:\n",
    "𝑋\n",
    "ˉ\n",
    "±\n",
    "𝑍\n",
    "𝛼\n",
    "/\n",
    "2\n",
    "𝜎\n",
    "𝑛\n",
    "X\n",
    "ˉ\n",
    " ±Z \n",
    "α/2\n",
    "​\n",
    "  \n",
    "n\n",
    "​\n",
    " \n",
    "σ\n",
    "​\n",
    " \n",
    "- 신뢰수준이 높을수록 구간이 넓어짐."
   ]
  },
  {
   "cell_type": "markdown",
   "metadata": {},
   "source": [
    "X\n",
    "ˉ\n",
    " ±Z \n",
    "α/2\n",
    "​\n",
    "  \n",
    "n\n",
    "​\n",
    " \n",
    "σ"
   ]
  },
  {
   "cell_type": "markdown",
   "metadata": {},
   "source": [
    "✔ 가설 검정 (Hypothesis Testing)\n",
    "\n",
    "- 귀무가설 (\n",
    "𝐻\n",
    "0\n",
    "H \n",
    "0\n",
    "​\n",
    " ) vs 대립가설 (\n",
    "𝐻\n",
    "1\n",
    "H \n",
    "1\n",
    "​\n",
    " )\n",
    "- 검정통계량과 p-value\n",
    "- 유의수준 \n",
    "𝛼\n",
    "α (일반적으로 0.05)\n",
    "- 단측 검정 vs 양측 검정\n",
    "- 1종 오류 (Type I Error): \n",
    "𝐻\n",
    "0\n",
    "H \n",
    "0\n",
    "​\n",
    " 가 참인데 기각\n",
    "- 2종 오류 (Type II Error): \n",
    "𝐻\n",
    "0\n",
    "H \n",
    "0\n",
    "​\n",
    " 가 거짓인데 채택"
   ]
  },
  {
   "cell_type": "markdown",
   "metadata": {},
   "source": [
    "✔ 검정 방법\n",
    "\n",
    "- Z 검정: 모분산을 아는 경우\n",
    "- t 검정: 모분산을 모르는 경우\n",
    "- 카이제곱 검정: 분산의 검정\n",
    "- ANOVA: 여러 집단 평균 비교"
   ]
  }
 ],
 "metadata": {
  "language_info": {
   "name": "python"
  }
 },
 "nbformat": 4,
 "nbformat_minor": 2
}
