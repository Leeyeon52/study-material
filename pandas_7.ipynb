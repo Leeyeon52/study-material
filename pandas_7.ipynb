{
 "cells": [
  {
   "cell_type": "markdown",
   "metadata": {},
   "source": [
    "1️⃣ 📂 pandas_7.ipynb (데이터 그룹화)"
   ]
  },
  {
   "cell_type": "markdown",
   "metadata": {},
   "source": [
    " 핵심 개념:\n",
    "\n",
    "groupby()는 데이터를 특정 기준에 따라 그룹으로 묶고, 각 그룹에 대해 연산을 수행할 수 있도록 해줍니다."
   ]
  },
  {
   "cell_type": "markdown",
   "metadata": {},
   "source": [
    "📌 주요 코드 설명:"
   ]
  },
  {
   "cell_type": "code",
   "execution_count": null,
   "metadata": {
    "vscode": {
     "languageId": "plaintext"
    }
   },
   "outputs": [],
   "source": [
    "import pandas as pd\n",
    "import numpy as np\n",
    "\n",
    "# 예제 데이터 생성\n",
    "data = {'Category': ['A', 'B', 'A', 'B', 'A', 'B'],\n",
    "        'Values': [10, 20, 30, 40, 50, 60]}\n",
    "\n",
    "df = pd.DataFrame(data)\n",
    "print(df)\n"
   ]
  },
  {
   "cell_type": "markdown",
   "metadata": {},
   "source": [
    "✔ groupby('Category')를 사용하면 같은 Category 값을 가진 데이터가 그룹으로 묶입니다."
   ]
  },
  {
   "cell_type": "code",
   "execution_count": null,
   "metadata": {
    "vscode": {
     "languageId": "plaintext"
    }
   },
   "outputs": [],
   "source": [
    "grouped = df.groupby('Category')\n",
    "print(grouped.mean())  # 각 그룹의 평균값 계산\n",
    "\n"
   ]
  },
  {
   "cell_type": "markdown",
   "metadata": {},
   "source": [
    "✔ 그룹별 집계 연산에는 sum(), mean(), count() 등을 사용할 수 있습니다.\n",
    "✔ agg()를 활용하면 여러 개의 집계 연산을 동시에 적용할 수 있습니다."
   ]
  },
  {
   "cell_type": "code",
   "execution_count": null,
   "metadata": {
    "vscode": {
     "languageId": "plaintext"
    }
   },
   "outputs": [],
   "source": [
    "df.groupby('Category').agg({'Values': ['sum', 'mean', 'max']})\n"
   ]
  }
 ],
 "metadata": {
  "language_info": {
   "name": "python"
  }
 },
 "nbformat": 4,
 "nbformat_minor": 2
}
